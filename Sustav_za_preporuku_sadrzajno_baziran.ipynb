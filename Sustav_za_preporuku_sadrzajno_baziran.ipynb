{
 "cells": [
  {
   "cell_type": "markdown",
   "metadata": {},
   "source": [
    "# Preporuka filmova pomoću sadržajno baziranog filtriranja\n",
    "\n",
    "\n"
   ]
  },
  {
   "cell_type": "markdown",
   "metadata": {},
   "source": [
    "## Movie Lens set podataka\n",
    "Jedna od najčešćih setova podataka koja je dostupna na internetu za izgradnju Recommender sustava je [MovieLens DataSet](https://grouplens.org/datasets/movielens/). Ova verzija seta podataka s kojom radim ([1M](https://grouplens.org/datasets/movielens/1m/)) sadrži 1.000.209 anonimnih ocjena od približno 3.900 filmova koje je napravilo 6.040 filmskih korisnika koji su se pridružili MovieLensu 2000. godine.\n",
    "\n",
    "Podaci su prikupljeni od strane istraživača GroupLens-a tijekom različitih vremenskih perioda, ovisno o veličini seta. Ova 1M verzija izdana je u veljači 2003. Korisnici su slučajno odabrani. Svi odabrani korisnici ocijenili su najmanje 20 filmova. Svaki je korisnik predstavljen ID-om.\n",
    "\n",
    "Prvobitni MovieLens podaci su sadržani u **movies.dat**, **ratings.dat** i **users.dat** datotekama. Da bismo olakšali rad s podacima, pretvorio sam ih u csv datoteke. Ovaj proces je prikazan u mom drugom **jupyter notebook-u** pod nazivom **Procesiranje podataka**, koje možete pronaći na mom [github-u](https://github.com/lukamaric996/Recommended-System-MovieLens-Data/blob/master/Procesiranje_podataka.ipynb)."
   ]
  },
  {
   "cell_type": "markdown",
   "metadata": {},
   "source": [
    "## Pripremanje podataka\n",
    "Idemo učitati podatke pomoću Python-a. Pomoću biblioteke pandas učitati ćemo ih u **ratings**, **users**, and **movies**. Proslijediti ću kolone da ih možemo lakše isčitavati pomoću pandas."
   ]
  },
  {
   "cell_type": "code",
   "execution_count": 1,
   "metadata": {},
   "outputs": [],
   "source": [
    "import pandas as pd\n",
    "import numpy as np\n",
    "import matplotlib.pyplot as plt\n",
    "import warnings\n",
    "warnings.filterwarnings(\"ignore\")\n",
    "\n",
    "# Čitanje datoteke s ocjenama\n",
    "# Brisanje timestamp kolone\n",
    "ratings = pd.read_csv('ratings.csv', sep='\\t', encoding='latin-1', usecols=['user_id', 'movie_id', 'rating'])\n",
    "\n",
    "# Čitanje datoteke s korisnicima\n",
    "users = pd.read_csv('users.csv', sep='\\t', encoding='latin-1', usecols=['user_id', 'gender', 'zipcode', 'age_desc', 'occ_desc'])\n",
    "\n",
    "# Čitanje datoteke s filmovima\n",
    "movies = pd.read_csv('movies.csv', sep='\\t', encoding='latin-1', usecols=['movie_id', 'title', 'genres'])"
   ]
  },
  {
   "cell_type": "markdown",
   "metadata": {},
   "source": [
    "\n",
    "Pogledajmo sada sadržaj svake datoteke kako bismo ih bolje razumjeli.\n",
    "\n",
    "### Ocjene - set podataka"
   ]
  },
  {
   "cell_type": "code",
   "execution_count": 2,
   "metadata": {},
   "outputs": [
    {
     "name": "stdout",
     "output_type": "stream",
     "text": [
      "   user_id  movie_id  rating\n",
      "0        1      1193       5\n",
      "1        1       661       3\n",
      "2        1       914       3\n",
      "3        1      3408       4\n",
      "4        1      2355       5\n"
     ]
    }
   ],
   "source": [
    "# Provjeravanje prvih 5 redova\n",
    "print(ratings.head())"
   ]
  },
  {
   "cell_type": "code",
   "execution_count": 3,
   "metadata": {},
   "outputs": [
    {
     "name": "stdout",
     "output_type": "stream",
     "text": [
      "<class 'pandas.core.frame.DataFrame'>\n",
      "RangeIndex: 1000209 entries, 0 to 1000208\n",
      "Data columns (total 3 columns):\n",
      "user_id     1000209 non-null int64\n",
      "movie_id    1000209 non-null int64\n",
      "rating      1000209 non-null int64\n",
      "dtypes: int64(3)\n",
      "memory usage: 22.9 MB\n",
      "None\n"
     ]
    }
   ],
   "source": [
    "# Provjeravanje informacija za set\n",
    "print(ratings.info())"
   ]
  },
  {
   "cell_type": "markdown",
   "metadata": {},
   "source": [
    "Ovo potvrđuje da se radi o 1 milionu ocjena za različite kombinacije korisnika i filmova.\n",
    "\n",
    "### Korisnici - set podataka"
   ]
  },
  {
   "cell_type": "code",
   "execution_count": 4,
   "metadata": {},
   "outputs": [
    {
     "name": "stdout",
     "output_type": "stream",
     "text": [
      "   user_id gender zipcode  age_desc              occ_desc\n",
      "0        1      F   48067  Under 18          K-12 student\n",
      "1        2      M   70072       56+         self-employed\n",
      "2        3      M   55117     25-34             scientist\n",
      "3        4      M   02460     45-49  executive/managerial\n",
      "4        5      M   55455     25-34                writer\n"
     ]
    }
   ],
   "source": [
    "# Provjeravanje prvih 5 redova\n",
    "print(users.head())"
   ]
  },
  {
   "cell_type": "code",
   "execution_count": 5,
   "metadata": {},
   "outputs": [
    {
     "name": "stdout",
     "output_type": "stream",
     "text": [
      "<class 'pandas.core.frame.DataFrame'>\n",
      "RangeIndex: 6040 entries, 0 to 6039\n",
      "Data columns (total 5 columns):\n",
      "user_id     6040 non-null int64\n",
      "gender      6040 non-null object\n",
      "zipcode     6040 non-null object\n",
      "age_desc    6040 non-null object\n",
      "occ_desc    6040 non-null object\n",
      "dtypes: int64(1), object(4)\n",
      "memory usage: 236.0+ KB\n",
      "None\n"
     ]
    }
   ],
   "source": [
    "# Provjeravanje informacija za set\n",
    "print(users.info())"
   ]
  },
  {
   "cell_type": "markdown",
   "metadata": {},
   "source": [
    "To potvrđuje da ima 6040 korisnika i imamo 5 značajki za svakog korisnika (jedinstveni ID korisnika, spol, dob, zanimanje i poštanski broj gdje žive).\n",
    "\n",
    "### Filmovi - set podataka"
   ]
  },
  {
   "cell_type": "code",
   "execution_count": 6,
   "metadata": {},
   "outputs": [
    {
     "name": "stdout",
     "output_type": "stream",
     "text": [
      "   movie_id                               title                        genres\n",
      "0         1                    Toy Story (1995)   Animation|Children's|Comedy\n",
      "1         2                      Jumanji (1995)  Adventure|Children's|Fantasy\n",
      "2         3             Grumpier Old Men (1995)                Comedy|Romance\n",
      "3         4            Waiting to Exhale (1995)                  Comedy|Drama\n",
      "4         5  Father of the Bride Part II (1995)                        Comedy\n"
     ]
    }
   ],
   "source": [
    "# Provjeravanje prvih 5 redova\n",
    "print(movies.head())"
   ]
  },
  {
   "cell_type": "code",
   "execution_count": 7,
   "metadata": {},
   "outputs": [
    {
     "name": "stdout",
     "output_type": "stream",
     "text": [
      "<class 'pandas.core.frame.DataFrame'>\n",
      "RangeIndex: 3883 entries, 0 to 3882\n",
      "Data columns (total 3 columns):\n",
      "movie_id    3883 non-null int64\n",
      "title       3883 non-null object\n",
      "genres      3883 non-null object\n",
      "dtypes: int64(1), object(2)\n",
      "memory usage: 91.1+ KB\n",
      "None\n"
     ]
    }
   ],
   "source": [
    "# Provjeravanje informacija za set\n",
    "print(movies.info())"
   ]
  },
  {
   "cell_type": "markdown",
   "metadata": {},
   "source": [
    "Ovaj set podataka sadrži atribute 3883 filmova. Postoje 3 stupca, uključujući ID filma, njihove naslove i žanrove. Žanrovi su odijeljeni pomoću **|** i izabrano je 18 žanrova (akcija, avantura, animacija, dječji, komedija, krimi, dokumentarni, drama, fantayija, film noir, horor, glazbeni, western)."
   ]
  },
  {
   "cell_type": "markdown",
   "metadata": {},
   "source": [
    "## Istraživanje podataka"
   ]
  },
  {
   "cell_type": "markdown",
   "metadata": {},
   "source": [
    "### Ocjene\n"
   ]
  },
  {
   "cell_type": "code",
   "execution_count": 8,
   "metadata": {},
   "outputs": [
    {
     "data": {
      "text/plain": [
       "count    1.000209e+06\n",
       "mean     3.581564e+00\n",
       "std      1.117102e+00\n",
       "min      1.000000e+00\n",
       "25%      3.000000e+00\n",
       "50%      4.000000e+00\n",
       "75%      4.000000e+00\n",
       "max      5.000000e+00\n",
       "Name: rating, dtype: float64"
      ]
     },
     "execution_count": 8,
     "metadata": {},
     "output_type": "execute_result"
    }
   ],
   "source": [
    "# Statistički opis podataka te suma\n",
    "ratings['rating'].describe()"
   ]
  },
  {
   "cell_type": "code",
   "execution_count": 9,
   "metadata": {},
   "outputs": [
    {
     "name": "stderr",
     "output_type": "stream",
     "text": [
      "C:\\Users\\Lumar\\Anaconda3\\lib\\site-packages\\matplotlib\\axes\\_axes.py:6462: UserWarning: The 'normed' kwarg is deprecated, and has been replaced by the 'density' kwarg.\n",
      "  warnings.warn(\"The 'normed' kwarg is deprecated, and has been \"\n"
     ]
    },
    {
     "data": {
      "text/plain": [
       "<matplotlib.axes._subplots.AxesSubplot at 0x23f17cabcf8>"
      ]
     },
     "execution_count": 9,
     "metadata": {},
     "output_type": "execute_result"
    },
    {
     "data": {
      "image/png": "[encoded data removed]",
      "text/plain": [
       "<Figure size 432x288 with 1 Axes>"
      ]
     },
     "metadata": {},
     "output_type": "display_data"
    }
   ],
   "source": [
    "# Import seaborn library\n",
    "import seaborn as sns\n",
    "sns.set_style('whitegrid')\n",
    "sns.set(font_scale=1.5)\n",
    "%matplotlib inline\n",
    "\n",
    "# Display distribution of rating\n",
    "sns.distplot(ratings['rating'].fillna(ratings['rating'].median()))"
   ]
  },
  {
   "cell_type": "markdown",
   "metadata": {},
   "source": [
    "Čini se da su korisnici prilično velikodušni u svojim ocjenama. Prosječna ocjena iznosi 3,58 na skali od 5. Pola filmova ima ocjenu 4 i 5. Osobno mislim da ocjena 5 nije bila dobar pokazatelj jer bi ljudi mogli imati različite stilove ocjenjivanja (tj. Osoba A mogla bi uvijek koristiti 4 za prosječan film, dok osoba B daje samo 4 za svoje favorite). Svaki je korisnik ocijenio najmanje 20 filmova, pa sumnjam da bi distribucija mogla biti uzrokovana samo slučajnom razlikom u kvaliteti filmova.\n",
    "\n",
    "Pogledajmo i podskup od 20 filmova s najvišom ocjenom."
   ]
  },
  {
   "cell_type": "code",
   "execution_count": 10,
   "metadata": {},
   "outputs": [
    {
     "data": {
      "text/html": [
       "<div>\n",
       "<style scoped>\n",
       "    .dataframe tbody tr th:only-of-type {\n",
       "        vertical-align: middle;\n",
       "    }\n",
       "\n",
       "    .dataframe tbody tr th {\n",
       "        vertical-align: top;\n",
       "    }\n",
       "\n",
       "    .dataframe thead th {\n",
       "        text-align: right;\n",
       "    }\n",
       "</style>\n",
       "<table border=\"1\" class=\"dataframe\">\n",
       "  <thead>\n",
       "    <tr style=\"text-align: right;\">\n",
       "      <th></th>\n",
       "      <th>title</th>\n",
       "      <th>genres</th>\n",
       "      <th>rating</th>\n",
       "    </tr>\n",
       "  </thead>\n",
       "  <tbody>\n",
       "    <tr>\n",
       "      <th>0</th>\n",
       "      <td>Toy Story (1995)</td>\n",
       "      <td>Animation|Children's|Comedy</td>\n",
       "      <td>5</td>\n",
       "    </tr>\n",
       "    <tr>\n",
       "      <th>489283</th>\n",
       "      <td>American Beauty (1999)</td>\n",
       "      <td>Comedy|Drama</td>\n",
       "      <td>5</td>\n",
       "    </tr>\n",
       "    <tr>\n",
       "      <th>489259</th>\n",
       "      <td>Election (1999)</td>\n",
       "      <td>Comedy</td>\n",
       "      <td>5</td>\n",
       "    </tr>\n",
       "    <tr>\n",
       "      <th>489257</th>\n",
       "      <td>Matrix, The (1999)</td>\n",
       "      <td>Action|Sci-Fi|Thriller</td>\n",
       "      <td>5</td>\n",
       "    </tr>\n",
       "    <tr>\n",
       "      <th>489256</th>\n",
       "      <td>Dead Ringers (1988)</td>\n",
       "      <td>Drama|Thriller</td>\n",
       "      <td>5</td>\n",
       "    </tr>\n",
       "    <tr>\n",
       "      <th>489237</th>\n",
       "      <td>Rushmore (1998)</td>\n",
       "      <td>Comedy</td>\n",
       "      <td>5</td>\n",
       "    </tr>\n",
       "    <tr>\n",
       "      <th>489236</th>\n",
       "      <td>Simple Plan, A (1998)</td>\n",
       "      <td>Crime|Thriller</td>\n",
       "      <td>5</td>\n",
       "    </tr>\n",
       "    <tr>\n",
       "      <th>489226</th>\n",
       "      <td>Hands on a Hard Body (1996)</td>\n",
       "      <td>Documentary</td>\n",
       "      <td>5</td>\n",
       "    </tr>\n",
       "    <tr>\n",
       "      <th>489224</th>\n",
       "      <td>Pleasantville (1998)</td>\n",
       "      <td>Comedy</td>\n",
       "      <td>5</td>\n",
       "    </tr>\n",
       "    <tr>\n",
       "      <th>489212</th>\n",
       "      <td>Say Anything... (1989)</td>\n",
       "      <td>Comedy|Drama|Romance</td>\n",
       "      <td>5</td>\n",
       "    </tr>\n",
       "    <tr>\n",
       "      <th>489207</th>\n",
       "      <td>Beetlejuice (1988)</td>\n",
       "      <td>Comedy|Fantasy</td>\n",
       "      <td>5</td>\n",
       "    </tr>\n",
       "    <tr>\n",
       "      <th>489190</th>\n",
       "      <td>Roger &amp; Me (1989)</td>\n",
       "      <td>Comedy|Documentary</td>\n",
       "      <td>5</td>\n",
       "    </tr>\n",
       "    <tr>\n",
       "      <th>489172</th>\n",
       "      <td>Buffalo 66 (1998)</td>\n",
       "      <td>Action|Comedy|Drama</td>\n",
       "      <td>5</td>\n",
       "    </tr>\n",
       "    <tr>\n",
       "      <th>489171</th>\n",
       "      <td>Out of Sight (1998)</td>\n",
       "      <td>Action|Crime|Romance</td>\n",
       "      <td>5</td>\n",
       "    </tr>\n",
       "    <tr>\n",
       "      <th>489170</th>\n",
       "      <td>I Went Down (1997)</td>\n",
       "      <td>Action|Comedy|Crime</td>\n",
       "      <td>5</td>\n",
       "    </tr>\n",
       "    <tr>\n",
       "      <th>489168</th>\n",
       "      <td>Opposite of Sex, The (1998)</td>\n",
       "      <td>Comedy|Drama</td>\n",
       "      <td>5</td>\n",
       "    </tr>\n",
       "    <tr>\n",
       "      <th>489157</th>\n",
       "      <td>Good Will Hunting (1997)</td>\n",
       "      <td>Drama</td>\n",
       "      <td>5</td>\n",
       "    </tr>\n",
       "    <tr>\n",
       "      <th>489152</th>\n",
       "      <td>Fast, Cheap &amp; Out of Control (1997)</td>\n",
       "      <td>Documentary</td>\n",
       "      <td>5</td>\n",
       "    </tr>\n",
       "    <tr>\n",
       "      <th>489149</th>\n",
       "      <td>L.A. Confidential (1997)</td>\n",
       "      <td>Crime|Film-Noir|Mystery|Thriller</td>\n",
       "      <td>5</td>\n",
       "    </tr>\n",
       "    <tr>\n",
       "      <th>489145</th>\n",
       "      <td>Contact (1997)</td>\n",
       "      <td>Drama|Sci-Fi</td>\n",
       "      <td>5</td>\n",
       "    </tr>\n",
       "  </tbody>\n",
       "</table>\n",
       "</div>"
      ],
      "text/plain": [
       "                                      title                            genres  \\\n",
       "0                          Toy Story (1995)       Animation|Children's|Comedy   \n",
       "489283               American Beauty (1999)                      Comedy|Drama   \n",
       "489259                      Election (1999)                            Comedy   \n",
       "489257                   Matrix, The (1999)            Action|Sci-Fi|Thriller   \n",
       "489256                  Dead Ringers (1988)                    Drama|Thriller   \n",
       "489237                      Rushmore (1998)                            Comedy   \n",
       "489236                Simple Plan, A (1998)                    Crime|Thriller   \n",
       "489226          Hands on a Hard Body (1996)                       Documentary   \n",
       "489224                 Pleasantville (1998)                            Comedy   \n",
       "489212               Say Anything... (1989)              Comedy|Drama|Romance   \n",
       "489207                   Beetlejuice (1988)                    Comedy|Fantasy   \n",
       "489190                    Roger & Me (1989)                Comedy|Documentary   \n",
       "489172                    Buffalo 66 (1998)               Action|Comedy|Drama   \n",
       "489171                  Out of Sight (1998)              Action|Crime|Romance   \n",
       "489170                   I Went Down (1997)               Action|Comedy|Crime   \n",
       "489168          Opposite of Sex, The (1998)                      Comedy|Drama   \n",
       "489157             Good Will Hunting (1997)                             Drama   \n",
       "489152  Fast, Cheap & Out of Control (1997)                       Documentary   \n",
       "489149             L.A. Confidential (1997)  Crime|Film-Noir|Mystery|Thriller   \n",
       "489145                       Contact (1997)                      Drama|Sci-Fi   \n",
       "\n",
       "        rating  \n",
       "0            5  \n",
       "489283       5  \n",
       "489259       5  \n",
       "489257       5  \n",
       "489256       5  \n",
       "489237       5  \n",
       "489236       5  \n",
       "489226       5  \n",
       "489224       5  \n",
       "489212       5  \n",
       "489207       5  \n",
       "489190       5  \n",
       "489172       5  \n",
       "489171       5  \n",
       "489170       5  \n",
       "489168       5  \n",
       "489157       5  \n",
       "489152       5  \n",
       "489149       5  \n",
       "489145       5  "
      ]
     },
     "execution_count": 10,
     "metadata": {},
     "output_type": "execute_result"
    }
   ],
   "source": [
    "# Spajanje sve 3 csv datoteke u jedan dataframe\n",
    "dataset = pd.merge(pd.merge(movies, ratings),users)\n",
    "# Prikazivanje 20 filmova sa najvišom ocjenom\n",
    "dataset[['title','genres','rating']].sort_values('rating', ascending=False).head(20)"
   ]
  },
  {
   "cell_type": "markdown",
   "metadata": {},
   "source": [
    "### Žanrovi\n",
    "Varijabla žanrova zasigurno će biti važna pri izradi preporuka jer opisuje sadržaj filma (tj. Animacija, Horror, Sci-Fi). Osnovna pretpostavka je da filmovi u istom žanru trebaju imati slične sadržaje. Pokušat ću vidjeti točno koji su žanrovi najpopularniji."
   ]
  },
  {
   "cell_type": "code",
   "execution_count": 11,
   "metadata": {},
   "outputs": [
    {
     "data": {
      "text/plain": [
       "[['Drama', 1603],\n",
       " ['Comedy', 1200],\n",
       " ['Action', 503],\n",
       " ['Thriller', 492],\n",
       " ['Romance', 471]]"
      ]
     },
     "execution_count": 11,
     "metadata": {},
     "output_type": "execute_result"
    }
   ],
   "source": [
    "# Popis ključnih riječi žanra\n",
    "genre_labels = set()\n",
    "for s in movies['genres'].str.split('|').values:\n",
    "    genre_labels = genre_labels.union(set(s))\n",
    "\n",
    "# Funkcija koja broji koliko puta se pojavljuju sve ključne riječi žanra\n",
    "def count_word(dataset, ref_col, census):\n",
    "    keyword_count = dict()\n",
    "    for s in census: \n",
    "        keyword_count[s] = 0\n",
    "    for census_keywords in dataset[ref_col].str.split('|'):        \n",
    "        if type(census_keywords) == float and pd.isnull(census_keywords): \n",
    "            continue        \n",
    "        for s in [s for s in census_keywords if s in census]: \n",
    "            if pd.notnull(s): \n",
    "                keyword_count[s] += 1\n",
    "    #______________________________________________________________________\n",
    "    # pretvoriti rječnik u popis kako bismo sortirali ključne riječi prema učestalosti\n",
    "    keyword_occurences = []\n",
    "    for k,v in keyword_count.items():\n",
    "        keyword_occurences.append([k,v])\n",
    "    keyword_occurences.sort(key = lambda x:x[1], reverse = True)\n",
    "    return keyword_occurences, keyword_count\n",
    "\n",
    "# Pozivanje ove funkcije omogućuje pristup popisu ključnih riječi žanrova koje su sortirane smanjenjem učestalosti\n",
    "keyword_occurences, dum = count_word(movies, 'genres', genre_labels)\n",
    "keyword_occurences[:5]"
   ]
  },
  {
   "cell_type": "markdown",
   "metadata": {},
   "source": [
    "Top 5 žanrova u opadajućem nizu su: drama, komedija, akcija, triler i romantika."
   ]
  },
  {
   "cell_type": "markdown",
   "metadata": {},
   "source": [
    "## Vrste sustava preporuke\n",
    "\n",
    "### 1. Sadržajno bazirani\n",
    "Preporuka temeljena na sadržaju oslanja se na sličnost preporučenih stavki. Osnovna ideja je da ako vam se sviđa jedna stavka, tada će vam se svidjeti i \"slična\" stavka. Obično funkcionira dobro kada je lako odrediti kontekst / svojstva svake stavke.\n",
    "\n",
    "Sadržaj temeljen na sadržaju funkcionira s podacima koje korisnik pruža, bilo izričito ocjena filmova za MovieLens skup podataka. Na temelju tih podataka generira se korisnički profil koji se zatim koristi za davanje prijedloga korisniku. Kako korisnik daje više ulaza ili poduzima akcije na preporukama, sustav postaje sve precizniji za datog korisnika.\n",
    "### 2. Kolaborativno filtriranje\n",
    "Kolaborativno filtriranje u potpunosti se temelji na prošlom ponašanju, a ne o sadržaju. Točnije, temelji se na sličnosti u preferencijama, ukusima i izborima dvaju korisnika. Analizira kako je sličan ukus jednog korisnika na drugome i daje preporuke na temelju toga.\n",
    "\n",
    "Na primjer, ako korisnik A voli filmove 1, 2, 3 i korisnik B voli filmove 2,3,4, onda imaju slične interese i A bi trebao film 4 i B bi trebao film 1. To ga čini jednim od najčešće korištenih algoritama jer ne ovisi o bilo kakvim dodatnim informacijama.\n",
    "\n",
    "Općenito, kolaborativno filtriranje je onaj dio sustava preporuke koji obavlja najviše posla. Algoritam ima vrlo zanimljivu karakteristiku mogućnosti samostalnog učenja značajki, što znači da može početi samostalno učiti koje značajke koristiti. Može se podijeliti na **kolaborativno filtriranje na temelju memorije** i **kolaborativno filtriranje na temelju modela**.\n",
    "\n",
    "U ovom projektu ću obraditi sadržajno bazirani sustav preporuke."
   ]
  },
  {
   "cell_type": "markdown",
   "metadata": {},
   "source": [
    "## Sadržajno bazirani sustav preporuke\n",
    "### Teorija\n",
    "Koncepti **Term Frequency (TF)** i **Inverse (IDF)** upotrebljavaju se u sustavima prikupljanja podataka i mehanizmima filtriranja temeljenih na sadržaju (kao što je preporučitelj temeljen na sadržaju). Koriste se za određivanje relativne važnosti dokumenta / članka / vijesti / filma itd.\n",
    "\n",
    "\n",
    "TF je jednostavno učestalost riječi u dokumentu. IDF je inverzna učestalost dokumenta u cijelom dokumentu. \n",
    "TF-IDF se uglavnom koristi zbog dva razloga: Pretpostavimo da tražimo \"**rezultate najnovijih europskih nogometnih utakmica**\" na Googleu. Sigurno je da će \"**i/je**\" biti češće nego \"**nogomet/nogometnih**\", ali relativna važnost **nogomet** je veća od točke gledišta upita za pretraživanje. U takvim slučajevima, TF-IDF-a negira učinak visokofrekventnih riječi u određivanju važnosti neke stavke (dokumenta).\n",
    "\n",
    "Ispod je jednadžba za izračun TF-IDF :\n",
    "![tfidf](images/tfidf.jpg)\n",
    "\n",
    "Nakon izračuna rezultata TF-IDF-a, kako odrediti koje su stavke bliže jedna drugoj, a koje bliže korisničkom profilu? To se postiže pomoću **Vector Space Module** koji izračunava blizinu temeljenu na kutu između vektora. U ovom se modelu svaka stavka pohranjuje kao vektor njezinih atributa (koji su također vektori) u **n-dimenzionalnom prostoru**, a kutovi između vektora se izračunavaju kako bi **odredili sličnost između vektora**. Nadalje, vektori korisničkih profila također su stvoreni na temelju njegovih akcija na prethodnim atributima predmeta, a sličnost između stavke i korisnika također je određena na sličan način.\n",
    "\n",
    "![vector-space](images/vector_space.png)\n",
    "\n",
    "Rečenica 2 ima veću vjerojatnost da koristi termin 2 nego što koristi termin 1. Suprotno od rečenice 1. metoda izračuna ove relativne mjere izračunava se uzimanjem kosinusnog kuta između rečenica i uvjeta. Krajnji razlog korištenja kosinusa je da **vrijednost kosinusa raste sa smanjenom vrijednošću kuta** između koje označava više sličnosti. Vektori su normalizirani po duljini, nakon čega postaju vektori duljine 1, a zatim je izračun kosinusa jednostavno zbrajanje produkt vektora.\n",
    "\n",
    "### Implementacija\n",
    "\n",
    "Uz svu tu teoriju, gradit ću sustav s preporukom na temelju sadržaja koji izračunava sličnost između filmova temeljenih na filmskim žanrovima. Predložit će filmove koji su najsličniji određenom filmu temeljenom na njegovu žanru. Da bih to učinio, upotrijebit ću datoteku **movies.csv**."
   ]
  },
  {
   "cell_type": "code",
   "execution_count": 12,
   "metadata": {},
   "outputs": [],
   "source": [
    "# Razdvojiti veliki string žanrova u niz stringova\n",
    "movies['genres'] = movies['genres'].str.split('|')\n",
    "# Prebaciti žanrove u string vrijednosti\n",
    "movies['genres'] = movies['genres'].fillna(\"\").astype('str')"
   ]
  },
  {
   "cell_type": "markdown",
   "metadata": {},
   "source": [
    "Nemam kvantitativni mjerni podatak kako bismo prosudili učinkovitost našeg stroja pa će to morati biti kvalitativno učinjeno. Da bismo to učinili, koristit ću **TfidfVectorizer** funkciju **scikit-learn**, koja pretvara tekst u značajke vektora koji se mogu koristiti kao argument pri procjeni."
   ]
  },
  {
   "cell_type": "code",
   "execution_count": 13,
   "metadata": {},
   "outputs": [
    {
     "data": {
      "text/plain": [
       "(3883, 127)"
      ]
     },
     "execution_count": 13,
     "metadata": {},
     "output_type": "execute_result"
    }
   ],
   "source": [
    "from sklearn.feature_extraction.text import TfidfVectorizer\n",
    "tf = TfidfVectorizer(analyzer='word',ngram_range=(1, 2),min_df=0, stop_words='english')\n",
    "tfidf_matrix = tf.fit_transform(movies['genres'])\n",
    "tfidf_matrix.shape"
   ]
  },
  {
   "cell_type": "markdown",
   "metadata": {},
   "source": [
    "Koristit ću **[Cosine Similarity](https://masongallo.github.io/machine/learning,/python/2016/07/29/cosine-similarity.html)** za izračunavanje numeričke količine koja označava sličnost između dva filma. Budući da smo koristili TF-IDF Vectorizer, izračunavanje Dot proizvoda izravno će nam dati kosinsku sličnost. Stoga ćemo koristiti sklearn **linear_kernel** umjesto cosine_similarities jer je mnogo brži."
   ]
  },
  {
   "cell_type": "code",
   "execution_count": 14,
   "metadata": {},
   "outputs": [
    {
     "data": {
      "text/plain": [
       "array([[1.        , 0.14193614, 0.09010857, 0.1056164 ],\n",
       "       [0.14193614, 1.        , 0.        , 0.        ],\n",
       "       [0.09010857, 0.        , 1.        , 0.1719888 ],\n",
       "       [0.1056164 , 0.        , 0.1719888 , 1.        ]])"
      ]
     },
     "execution_count": 14,
     "metadata": {},
     "output_type": "execute_result"
    }
   ],
   "source": [
    "from sklearn.metrics.pairwise import linear_kernel\n",
    "cosine_sim = linear_kernel(tfidf_matrix, tfidf_matrix)\n",
    "cosine_sim[:4, :4]"
   ]
  },
  {
   "cell_type": "markdown",
   "metadata": {},
   "source": [
    "Sada imam  matricu parova kosinusni sličnosti za sve filmove u setu podataka. Sljedeći je korak napisati funkciju koja vraća 20 najsličnijih filmova temeljenih na rezultatima sličnosti kosinusa."
   ]
  },
  {
   "cell_type": "code",
   "execution_count": 15,
   "metadata": {},
   "outputs": [],
   "source": [
    "# Gradnja 1-dimenzionalnog niza s naslovima filmova\n",
    "titles = movies['title']\n",
    "indices = pd.Series(movies.index, index=movies['title'])\n",
    "\n",
    "# Funkcija koja daje preporuke za filmove temeljene na kosinusovim sličnostima filmskih žanrova\n",
    "def genre_recommendations(title):\n",
    "    idx = indices[title]\n",
    "    sim_scores = list(enumerate(cosine_sim[idx]))\n",
    "    sim_scores = sorted(sim_scores, key=lambda x: x[1], reverse=True)\n",
    "    sim_scores = sim_scores[1:21]\n",
    "    movie_indices = [i[0] for i in sim_scores]\n",
    "    return titles.iloc[movie_indices]"
   ]
  },
  {
   "cell_type": "markdown",
   "metadata": {},
   "source": [
    "Pokušajmo dobiti vrhunske preporuke za nekoliko filmova i vidjeti kako su dobre preporuke."
   ]
  },
  {
   "cell_type": "code",
   "execution_count": 16,
   "metadata": {},
   "outputs": [
    {
     "data": {
      "text/plain": [
       "461            Heaven & Earth (1993)\n",
       "1204        Full Metal Jacket (1987)\n",
       "1214     Boat, The (Das Boot) (1981)\n",
       "1222                    Glory (1989)\n",
       "1545                G.I. Jane (1997)\n",
       "1959      Saving Private Ryan (1998)\n",
       "2358       Thin Red Line, The (1998)\n",
       "2993         Longest Day, The (1962)\n",
       "3559            Flying Tigers (1942)\n",
       "3574    Fighting Seabees, The (1944)\n",
       "3585    Guns of Navarone, The (1961)\n",
       "3684             Patriot, The (2000)\n",
       "40                Richard III (1995)\n",
       "153            Beyond Rangoon (1995)\n",
       "332         Walking Dead, The (1995)\n",
       "523          Schindler's List (1993)\n",
       "641        Courage Under Fire (1996)\n",
       "967          Nothing Personal (1995)\n",
       "979           Michael Collins (1996)\n",
       "1074                  Platoon (1986)\n",
       "Name: title, dtype: object"
      ]
     },
     "execution_count": 16,
     "metadata": {},
     "output_type": "execute_result"
    }
   ],
   "source": [
    "genre_recommendations(\"Full Metal Jacket (1987)\").head(20)"
   ]
  },
  {
   "cell_type": "code",
   "execution_count": 17,
   "metadata": {},
   "outputs": [
    {
     "data": {
      "text/plain": [
       "168                      Hackers (1995)\n",
       "2209                       Ronin (1998)\n",
       "2887    Someone to Watch Over Me (1987)\n",
       "3694                         F/X (1986)\n",
       "3695                       F/X 2 (1992)\n",
       "46                 Seven (Se7en) (1995)\n",
       "49           Usual Suspects, The (1995)\n",
       "517            Romeo Is Bleeding (1993)\n",
       "653                  Purple Noon (1960)\n",
       "1073              Reservoir Dogs (1992)\n",
       "1331            Albino Alligator (1996)\n",
       "1444            City of Industry (1997)\n",
       "1601                 Playing God (1997)\n",
       "1629                   Incognito (1997)\n",
       "1640                  Red Corner (1997)\n",
       "2140          Young and Innocent (1937)\n",
       "2322              Simple Plan, A (1998)\n",
       "2492                  True Crime (1999)\n",
       "2536                  Entrapment (1999)\n",
       "2848                   Body Heat (1981)\n",
       "Name: title, dtype: object"
      ]
     },
     "execution_count": 17,
     "metadata": {},
     "output_type": "execute_result"
    }
   ],
   "source": [
    "genre_recommendations(\"Heat (1995)\").head(20)"
   ]
  },
  {
   "cell_type": "code",
   "execution_count": 18,
   "metadata": {},
   "outputs": [
    {
     "data": {
      "text/plain": [
       "25                                        Othello (1995)\n",
       "26                                   Now and Then (1995)\n",
       "29     Shanghai Triad (Yao a yao yao dao waipo qiao) ...\n",
       "30                                Dangerous Minds (1995)\n",
       "35                               Dead Man Walking (1995)\n",
       "39                       Cry, the Beloved Country (1995)\n",
       "42                                    Restoration (1995)\n",
       "52                                       Lamerica (1994)\n",
       "54                                        Georgia (1995)\n",
       "56                          Home for the Holidays (1995)\n",
       "61                             Mr. Holland's Opus (1995)\n",
       "66                                       Two Bits (1995)\n",
       "77                            Crossing Guard, The (1995)\n",
       "79          White Balloon, The (Badkonake Sefid ) (1995)\n",
       "81                       Antonia's Line (Antonia) (1995)\n",
       "82       Once Upon a Time... When We Were Colored (1995)\n",
       "89                    Journey of August King, The (1995)\n",
       "92                                Beautiful Girls (1996)\n",
       "95                               Hate (Haine, La) (1995)\n",
       "112                             Margaret's Museum (1995)\n",
       "Name: title, dtype: object"
      ]
     },
     "execution_count": 18,
     "metadata": {},
     "output_type": "execute_result"
    }
   ],
   "source": [
    "genre_recommendations('Good Will Hunting (1997)').head(20)"
   ]
  },
  {
   "cell_type": "markdown",
   "metadata": {},
   "source": [
    "Kao što vidite, imam dosta pristojan popis preporuka za **Full Metal Jacket**, **Heat** i **Good Will Hunting**.\n",
    "\n",
    "Ovdje su pozitivne stvari kod sadržajno bazirane preporuke:\n",
    "* Nema potrebe za podacima o drugim korisnicima, stoga nema problema s hladnim pokretanjem.\n",
    "* Može preporučiti korisnicima s jedinstvenim ukusima.\n",
    "* Može preporučiti nove i nepopularne stavke.\n",
    "* Može pružiti objašnjenja za preporučene stavke unosom sadržajnih značajki koje su uzrokovale preporučivanje stavke (u ovom slučaju žanrova)\n",
    "\n",
    "Međutim, postoje neki nedostaci korištenja ovog pristupa:\n",
    "* Pronalaženje odgovarajućih značajki je teško.\n",
    "* Ne preporučuje stavke izvan profila sadržaja korisnika.\n",
    "* Nije moguće iskoristiti kvalitetne prosudbe drugih korisnika."
   ]
  },
  {
   "cell_type": "markdown",
   "metadata": {},
   "source": [
    "## Zaključak\n",
    "U ovom notebook-u predstavio sam MovieLens set podataka za izgradnju sustava za preporuke filmova.\n",
    "\n",
    "Razvio sam modele preporuka, uključujući:\n",
    "\n",
    "* Kako učitati i pregledati podatke.\n",
    "* Kako razviti sadržajno temeljen model temeljen na žanrovima filma."
   ]
  }
 ],
 "metadata": {
  "kernelspec": {
   "display_name": "Python 3",
   "language": "python",
   "name": "python3"
  },
  "language_info": {
   "codemirror_mode": {
    "name": "ipython",
    "version": 3
   },
   "file_extension": ".py",
   "mimetype": "text/x-python",
   "name": "python",
   "nbconvert_exporter": "python",
   "pygments_lexer": "ipython3",
   "version": "3.6.5"
  }
 },
 "nbformat": 4,
 "nbformat_minor": 2
}
